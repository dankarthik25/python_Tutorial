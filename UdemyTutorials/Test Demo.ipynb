{
 "cells": [
  {
   "cell_type": "markdown",
   "metadata": {},
   "source": [
    "#   Datatime Module \n",
    "\n",
    " \n"
   ]
  },
  {
   "cell_type": "markdown",
   "metadata": {},
   "source": [
    "There are two types of model \n",
    "- navie datetime\n",
    "- aware datetime\n",
    "\n",
    "In navie datetime consist of \n",
    " - date [year, month, day, weekday]\n",
    " - time\n",
    "\n",
    "## Date"
   ]
  },
  {
   "cell_type": "code",
   "execution_count": 5,
   "metadata": {},
   "outputs": [
    {
     "name": "stdout",
     "output_type": "stream",
     "text": [
      "2018\n",
      "11\n",
      "27\n",
      "1\n",
      "2\n",
      "2018-12-04\n",
      "2018-11-20\n",
      "-94 days, 0:00:00\n",
      "-8121600.0\n"
     ]
    }
   ],
   "source": []
  },
  {
   "cell_type": "markdown",
   "metadata": {},
   "source": [
    "## Time "
   ]
  },
  {
   "cell_type": "code",
   "execution_count": 4,
   "metadata": {},
   "outputs": [
    {
     "name": "stdout",
     "output_type": "stream",
     "text": [
      "09:30:45.100000\n",
      "9\n",
      "00:00:00\n",
      "30\n",
      "['__class__', '__delattr__', '__dir__', '__doc__', '__eq__', '__format__', '__ge__', '__getattribute__', '__gt__', '__hash__', '__init__', '__init_subclass__', '__le__', '__lt__', '__ne__', '__new__', '__reduce__', '__reduce_ex__', '__repr__', '__setattr__', '__sizeof__', '__str__', '__subclasshook__', 'dst', 'fold', 'hour', 'isoformat', 'max', 'microsecond', 'min', 'minute', 'replace', 'resolution', 'second', 'strftime', 'tzinfo', 'tzname', 'utcoffset']\n",
      "00:00:00\n",
      "30\n"
     ]
    }
   ],
   "source": [
    "\n",
    "###############3\n",
    "# time\n",
    "################\n",
    "\n",
    "t = datetime.time(9, 30, 45, 100000)  #  hh,mm,ss,micro ss\n",
    "print(t)                  #  09:30:45.100000\n",
    "print(t.hour)               # 9\n",
    "print(t.min)                # 00:00:00\n",
    "print(t.minute)             # 30\n",
    "print(dir(t))\n",
    "# ['__class__', '__delattr__', '__dir__', '__doc__', '__eq__', '__format__', '__ge__', '__getattribute__', '__gt__', '__hash__', '__init__', '__init_subclass__', '__le__', '__lt__', '__ne__', '__new__', '__reduce__', '__reduce_ex__', '__repr__', '__setattr__', '__sizeof__', '__str__', '__subclasshook__', 'dst', 'fold', 'hour', 'isoformat', 'max', 'microsecond', 'min', 'minute', 'replace', 'resolution', 'second', 'strftime', 'tzinfo', 'tzname', 'utcoffset']\n",
    "print(t.min)                # 00:00:00\n",
    "print(t.minute)             # 30\n"
   ]
  },
  {
   "cell_type": "markdown",
   "metadata": {},
   "source": [
    "## Date and Time without timezone"
   ]
  },
  {
   "cell_type": "code",
   "execution_count": null,
   "metadata": {},
   "outputs": [],
   "source": [
    "############\n",
    "#  DATE TIME\n",
    "######################333\n",
    "\n",
    "dt= datetime.datetime(2018,7,28,12,30,45,10000)\n",
    "print(dt)           # 2018-0-28 12:30:45.010000\n",
    "\n",
    "\n",
    "\n",
    "t= datetime.datetime(2018,11,28,12,30,45,10000)\n",
    "print(t)            # 2018-11-28 12:30:45.010000\n",
    "print(t.date())     # 2018-11-28\n",
    "print(t.time())     # 12:30:45.010000\n",
    "print(t.year)       # 2018\n",
    "print(t.month)      # 11\n",
    "print(t.day)        # 28\n",
    "\n",
    "\n",
    "tdelta = datetime.timedelta(days=7)\n",
    "print(t +tdelta)        # 2018-12-05 12:30:45.010000\n",
    "tdelta = datetime.timedelta(hours=12)\n",
    "print(t +tdelta)        # 2018-11-28 19:30:45.010000\n",
    "\n",
    "\n"
   ]
  },
  {
   "cell_type": "markdown",
   "metadata": {},
   "source": [
    "## date & time with time zone in datetime modle"
   ]
  },
  {
   "cell_type": "code",
   "execution_count": null,
   "metadata": {},
   "outputs": [],
   "source": [
    "dt_today = datetime.datetime.today()        # current local time NO-TIMEZOME\n",
    "dt_now = datetime.datetime.now()            # give TIMEZONE : default: NONE\n",
    "dt_utcnow = datetime.datetime.utcnow()      # UTC info: NONE\n",
    "\n",
    "print(dt_today)             # 2018-11-26 21:20:31.829934\n",
    "print(dt_now)               # 2018-11-26 21:20:49.192463\n",
    "print(dt_utcnow)            # 2018-11-26 15:51:51.149416\n",
    "\n",
    "\n",
    "# https://docs.python.org/3/library/datetime.html\n",
    "\n",
    "# dateulti.tz   libray IANA timezone database\n",
    "# pytz          library IANA timezone database\n",
    "\n",
    "\n",
    "\n",
    "# pip install pytz\n",
    "\n",
    "# In pytz : always recommend to use UTC\n",
    "\n"
   ]
  }
 ],
 "metadata": {
  "kernelspec": {
   "display_name": "Python 3",
   "language": "python",
   "name": "python3"
  },
  "language_info": {
   "codemirror_mode": {
    "name": "ipython",
    "version": 3
   },
   "file_extension": ".py",
   "mimetype": "text/x-python",
   "name": "python",
   "nbconvert_exporter": "python",
   "pygments_lexer": "ipython3",
   "version": "3.6.7"
  }
 },
 "nbformat": 4,
 "nbformat_minor": 2
}
